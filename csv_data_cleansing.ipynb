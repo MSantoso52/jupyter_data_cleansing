{
 "cells": [
  {
   "cell_type": "markdown",
   "id": "d9969880-7e15-48e8-a297-d0f301975dd1",
   "metadata": {},
   "source": [
    "# Data Cleansing CSV"
   ]
  },
  {
   "cell_type": "code",
   "execution_count": 1,
   "id": "a74a43ba-697c-4d5a-8bba-e309876d0350",
   "metadata": {},
   "outputs": [],
   "source": [
    "import pandas as pd"
   ]
  },
  {
   "cell_type": "code",
   "execution_count": 2,
   "id": "c4353a50-748b-4d9a-8a5d-16c59ac4e631",
   "metadata": {},
   "outputs": [],
   "source": [
    "df = pd.read_csv('CO2 Emission Country.csv')"
   ]
  },
  {
   "cell_type": "code",
   "execution_count": 3,
   "id": "acf1b514-9066-4db9-9a89-8d4a8f9a4750",
   "metadata": {},
   "outputs": [
    {
     "data": {
      "text/html": [
       "<div>\n",
       "<style scoped>\n",
       "    .dataframe tbody tr th:only-of-type {\n",
       "        vertical-align: middle;\n",
       "    }\n",
       "\n",
       "    .dataframe tbody tr th {\n",
       "        vertical-align: top;\n",
       "    }\n",
       "\n",
       "    .dataframe thead th {\n",
       "        text-align: right;\n",
       "    }\n",
       "</style>\n",
       "<table border=\"1\" class=\"dataframe\">\n",
       "  <thead>\n",
       "    <tr style=\"text-align: right;\">\n",
       "      <th></th>\n",
       "      <th>Location</th>\n",
       "      <th>% of global total</th>\n",
       "      <th>Fossil emissions 2023</th>\n",
       "      <th>Fossil emissions 2000</th>\n",
       "      <th>% change from 2000</th>\n",
       "    </tr>\n",
       "  </thead>\n",
       "  <tbody>\n",
       "    <tr>\n",
       "      <th>0</th>\n",
       "      <td>China</td>\n",
       "      <td>34.0%</td>\n",
       "      <td>13,259.64</td>\n",
       "      <td>3,666.95</td>\n",
       "      <td>+262%</td>\n",
       "    </tr>\n",
       "    <tr>\n",
       "      <th>1</th>\n",
       "      <td>United States</td>\n",
       "      <td>12.0%</td>\n",
       "      <td>4,682.04</td>\n",
       "      <td>5,928.97</td>\n",
       "      <td>−21%</td>\n",
       "    </tr>\n",
       "    <tr>\n",
       "      <th>2</th>\n",
       "      <td>India</td>\n",
       "      <td>7.6%</td>\n",
       "      <td>2,955.18</td>\n",
       "      <td>995.65</td>\n",
       "      <td>+197%</td>\n",
       "    </tr>\n",
       "    <tr>\n",
       "      <th>3</th>\n",
       "      <td>European Union</td>\n",
       "      <td>6.4%</td>\n",
       "      <td>2,512.07</td>\n",
       "      <td>3,563.26</td>\n",
       "      <td>−30%</td>\n",
       "    </tr>\n",
       "    <tr>\n",
       "      <th>4</th>\n",
       "      <td>Russia</td>\n",
       "      <td>5.3%</td>\n",
       "      <td>2,069.50</td>\n",
       "      <td>1,681.14</td>\n",
       "      <td>+23%</td>\n",
       "    </tr>\n",
       "  </tbody>\n",
       "</table>\n",
       "</div>"
      ],
      "text/plain": [
       "         Location % of global total Fossil emissions 2023  \\\n",
       "0           China             34.0%             13,259.64   \n",
       "1   United States             12.0%              4,682.04   \n",
       "2           India              7.6%              2,955.18   \n",
       "3  European Union              6.4%              2,512.07   \n",
       "4          Russia              5.3%              2,069.50   \n",
       "\n",
       "  Fossil emissions 2000 % change from 2000  \n",
       "0              3,666.95              +262%  \n",
       "1              5,928.97               −21%  \n",
       "2                995.65              +197%  \n",
       "3              3,563.26               −30%  \n",
       "4              1,681.14               +23%  "
      ]
     },
     "execution_count": 3,
     "metadata": {},
     "output_type": "execute_result"
    }
   ],
   "source": [
    "df.head()"
   ]
  },
  {
   "cell_type": "code",
   "execution_count": 4,
   "id": "82fd6433-e4de-4711-95a6-89305deb5e35",
   "metadata": {},
   "outputs": [
    {
     "data": {
      "text/html": [
       "<div>\n",
       "<style scoped>\n",
       "    .dataframe tbody tr th:only-of-type {\n",
       "        vertical-align: middle;\n",
       "    }\n",
       "\n",
       "    .dataframe tbody tr th {\n",
       "        vertical-align: top;\n",
       "    }\n",
       "\n",
       "    .dataframe thead th {\n",
       "        text-align: right;\n",
       "    }\n",
       "</style>\n",
       "<table border=\"1\" class=\"dataframe\">\n",
       "  <thead>\n",
       "    <tr style=\"text-align: right;\">\n",
       "      <th></th>\n",
       "      <th>Location</th>\n",
       "      <th>% of global total</th>\n",
       "      <th>Fossil emissions 2023</th>\n",
       "      <th>Fossil emissions 2000</th>\n",
       "      <th>% change from 2000</th>\n",
       "    </tr>\n",
       "  </thead>\n",
       "  <tbody>\n",
       "    <tr>\n",
       "      <th>count</th>\n",
       "      <td>211</td>\n",
       "      <td>211</td>\n",
       "      <td>211</td>\n",
       "      <td>211</td>\n",
       "      <td>211</td>\n",
       "    </tr>\n",
       "    <tr>\n",
       "      <th>unique</th>\n",
       "      <td>211</td>\n",
       "      <td>47</td>\n",
       "      <td>201</td>\n",
       "      <td>194</td>\n",
       "      <td>156</td>\n",
       "    </tr>\n",
       "    <tr>\n",
       "      <th>top</th>\n",
       "      <td>China</td>\n",
       "      <td>0.02%</td>\n",
       "      <td>0.10</td>\n",
       "      <td>0.06</td>\n",
       "      <td>−33%</td>\n",
       "    </tr>\n",
       "    <tr>\n",
       "      <th>freq</th>\n",
       "      <td>1</td>\n",
       "      <td>24</td>\n",
       "      <td>3</td>\n",
       "      <td>4</td>\n",
       "      <td>4</td>\n",
       "    </tr>\n",
       "  </tbody>\n",
       "</table>\n",
       "</div>"
      ],
      "text/plain": [
       "       Location % of global total Fossil emissions 2023 Fossil emissions 2000  \\\n",
       "count       211               211                   211                   211   \n",
       "unique      211                47                   201                   194   \n",
       "top       China             0.02%                  0.10                  0.06   \n",
       "freq          1                24                     3                     4   \n",
       "\n",
       "       % change from 2000  \n",
       "count                 211  \n",
       "unique                156  \n",
       "top                  −33%  \n",
       "freq                    4  "
      ]
     },
     "execution_count": 4,
     "metadata": {},
     "output_type": "execute_result"
    }
   ],
   "source": [
    "df.describe()"
   ]
  },
  {
   "cell_type": "code",
   "execution_count": 5,
   "id": "138915c9-0686-424d-a8d4-bbc5745aec07",
   "metadata": {},
   "outputs": [
    {
     "name": "stdout",
     "output_type": "stream",
     "text": [
      "<class 'pandas.core.frame.DataFrame'>\n",
      "RangeIndex: 211 entries, 0 to 210\n",
      "Data columns (total 5 columns):\n",
      " #   Column                 Non-Null Count  Dtype \n",
      "---  ------                 --------------  ----- \n",
      " 0   Location               211 non-null    object\n",
      " 1   % of global total      211 non-null    object\n",
      " 2   Fossil emissions 2023  211 non-null    object\n",
      " 3   Fossil emissions 2000  211 non-null    object\n",
      " 4   % change from 2000     211 non-null    object\n",
      "dtypes: object(5)\n",
      "memory usage: 8.4+ KB\n"
     ]
    }
   ],
   "source": [
    "df.info()"
   ]
  },
  {
   "cell_type": "markdown",
   "id": "ca2fc32e-ccce-4cfe-9513-004a61cb907c",
   "metadata": {},
   "source": [
    "# Remove % string from [% of global total]"
   ]
  },
  {
   "cell_type": "code",
   "execution_count": 6,
   "id": "630a5831-1c7e-46ac-a6ee-a92c84bf5244",
   "metadata": {},
   "outputs": [],
   "source": [
    "df['% of global total'] = df['% of global total'].str.replace('%', '', regex=False)"
   ]
  },
  {
   "cell_type": "code",
   "execution_count": 7,
   "id": "acdbab35-2e02-4796-8d9e-d5449057b02e",
   "metadata": {},
   "outputs": [
    {
     "data": {
      "text/plain": [
       "0    34.0\n",
       "1    12.0\n",
       "2     7.6\n",
       "3     6.4\n",
       "4     5.3\n",
       "Name: % of global total, dtype: object"
      ]
     },
     "execution_count": 7,
     "metadata": {},
     "output_type": "execute_result"
    }
   ],
   "source": [
    "df['% of global total'].head()"
   ]
  },
  {
   "cell_type": "markdown",
   "id": "5649dc5f-0ae7-4029-9d99-7beddfc91db3",
   "metadata": {},
   "source": [
    "# Convert object to numeric [% of global total]"
   ]
  },
  {
   "cell_type": "code",
   "execution_count": 8,
   "id": "c5c0cbd1-1711-43c1-b698-d6a630ed31b0",
   "metadata": {},
   "outputs": [],
   "source": [
    "df['% of global total'] = pd.to_numeric(df['% of global total'], errors='raise')"
   ]
  },
  {
   "cell_type": "code",
   "execution_count": 9,
   "id": "6d296ee6-af50-4a7f-bc79-2e0e6c9bf72e",
   "metadata": {},
   "outputs": [
    {
     "data": {
      "text/plain": [
       "0    34.0\n",
       "1    12.0\n",
       "2     7.6\n",
       "3     6.4\n",
       "4     5.3\n",
       "Name: % of global total, dtype: float64"
      ]
     },
     "execution_count": 9,
     "metadata": {},
     "output_type": "execute_result"
    }
   ],
   "source": [
    "df['% of global total'].head()"
   ]
  },
  {
   "cell_type": "markdown",
   "id": "588f9247-ebfd-4032-aadb-0c1b23f7ec92",
   "metadata": {},
   "source": [
    "# Remove string ',' from [Fossil Emissin 2023]"
   ]
  },
  {
   "cell_type": "code",
   "execution_count": 10,
   "id": "56d9f0ff-a14c-4506-b357-e74e39a0cf96",
   "metadata": {},
   "outputs": [],
   "source": [
    "df['Fossil emissions 2023'] = df['Fossil emissions 2023'].str.replace(',', '', regex=False)"
   ]
  },
  {
   "cell_type": "markdown",
   "id": "badd5f38-e510-4c3c-b0a9-286bdf82af4b",
   "metadata": {},
   "source": [
    "# Conver object to numeric [Fossil emission 2023]"
   ]
  },
  {
   "cell_type": "code",
   "execution_count": 11,
   "id": "1d2c6282-05cf-4556-bd02-41e9a96c8ef1",
   "metadata": {},
   "outputs": [],
   "source": [
    "df['Fossil emissions 2023'] = pd.to_numeric(df['Fossil emissions 2023'], errors='raise')"
   ]
  },
  {
   "cell_type": "code",
   "execution_count": 12,
   "id": "0b86e65e-1c72-4eb0-b30c-eeb26b7dae1c",
   "metadata": {},
   "outputs": [
    {
     "data": {
      "text/plain": [
       "0    13259.64\n",
       "1     4682.04\n",
       "2     2955.18\n",
       "3     2512.07\n",
       "4     2069.50\n",
       "Name: Fossil emissions 2023, dtype: float64"
      ]
     },
     "execution_count": 12,
     "metadata": {},
     "output_type": "execute_result"
    }
   ],
   "source": [
    "df['Fossil emissions 2023'].head()"
   ]
  },
  {
   "cell_type": "markdown",
   "id": "a511c678-511a-4eea-93d7-49f871245c9f",
   "metadata": {},
   "source": [
    "# Remove ',' & 'no' string from [Fossil emissions 2000]"
   ]
  },
  {
   "cell_type": "code",
   "execution_count": 13,
   "id": "1ca93252-782d-4919-8203-068ec97a49bf",
   "metadata": {},
   "outputs": [],
   "source": [
    "df['Fossil emissions 2000'] = df['Fossil emissions 2000'].str.replace(',', '', regex=False)"
   ]
  },
  {
   "cell_type": "code",
   "execution_count": 14,
   "id": "1e98c234-436d-4456-a8c1-ac402fc2a11e",
   "metadata": {},
   "outputs": [],
   "source": [
    "df['Fossil emissions 2000'] = df['Fossil emissions 2000'].str.replace('no', '', regex=False)"
   ]
  },
  {
   "cell_type": "markdown",
   "id": "ce51f75a-f333-45f9-9701-664adaac5ab3",
   "metadata": {},
   "source": [
    "# Convert to numeric [Fossil emisions 2000]"
   ]
  },
  {
   "cell_type": "code",
   "execution_count": 15,
   "id": "619339cd-3137-48f6-b795-1b4e0b5552b3",
   "metadata": {},
   "outputs": [],
   "source": [
    "df['Fossil emissions 2000'] = pd.to_numeric(df['Fossil emissions 2000'], errors='raise')"
   ]
  },
  {
   "cell_type": "code",
   "execution_count": 16,
   "id": "2e4b5503-f20e-44b9-8c96-2dcceb07ae11",
   "metadata": {},
   "outputs": [
    {
     "data": {
      "text/plain": [
       "0    3666.95\n",
       "1    5928.97\n",
       "2     995.65\n",
       "3    3563.26\n",
       "4    1681.14\n",
       "Name: Fossil emissions 2000, dtype: float64"
      ]
     },
     "execution_count": 16,
     "metadata": {},
     "output_type": "execute_result"
    }
   ],
   "source": [
    "df['Fossil emissions 2000'].head()"
   ]
  },
  {
   "cell_type": "markdown",
   "id": "a29dffec-91a4-438d-8bdb-13983b8096c0",
   "metadata": {},
   "source": [
    "# Remove '%' '+' string from [% change from 2000]"
   ]
  },
  {
   "cell_type": "code",
   "execution_count": 17,
   "id": "a28b5065-760a-42f2-b771-d5c20aa91ccb",
   "metadata": {},
   "outputs": [],
   "source": [
    "df['% change from 2000'] = df['% change from 2000'].str.replace('%', '', regex=False)"
   ]
  },
  {
   "cell_type": "code",
   "execution_count": 18,
   "id": "9d426a44-e6fa-46c2-b591-62a778a5518f",
   "metadata": {},
   "outputs": [],
   "source": [
    "df['% change from 2000'] = df['% change from 2000'].str.replace('+', '', regex=False)"
   ]
  },
  {
   "cell_type": "code",
   "execution_count": 19,
   "id": "65b460e8-40f3-4af9-b2a4-5a5e003c1366",
   "metadata": {},
   "outputs": [],
   "source": [
    "df['% change from 2000'] = df['% change from 2000'].str.replace(\"−\", \"-\")"
   ]
  },
  {
   "cell_type": "markdown",
   "id": "fc34640e-e8e1-4164-aded-beeea3f004af",
   "metadata": {},
   "source": [
    "# Remove ',' & 'change' from [% change from 2000]"
   ]
  },
  {
   "cell_type": "code",
   "execution_count": 20,
   "id": "c5c5d10d-343a-4ff4-854c-273d9c9e056f",
   "metadata": {},
   "outputs": [],
   "source": [
    "df['% change from 2000'] = df['% change from 2000'].str.replace(',', '', regex=False)"
   ]
  },
  {
   "cell_type": "code",
   "execution_count": 21,
   "id": "3cfcc5cc-2b8f-44a4-9ecd-84c97e03f32b",
   "metadata": {},
   "outputs": [],
   "source": [
    "df['% change from 2000'] = df['% change from 2000'].str.replace('change', '', regex=False)"
   ]
  },
  {
   "cell_type": "markdown",
   "id": "8a799c96-81fd-4a1e-9766-517ccbbd603f",
   "metadata": {},
   "source": [
    "# Convert objrct to numeric [% change from 2000]"
   ]
  },
  {
   "cell_type": "code",
   "execution_count": 22,
   "id": "e1e2d5cb-2cb9-4fa6-8f1a-4d3f7054035c",
   "metadata": {},
   "outputs": [],
   "source": [
    "df['% change from 2000'] = pd.to_numeric(df['% change from 2000'], errors='raise')"
   ]
  },
  {
   "cell_type": "code",
   "execution_count": 23,
   "id": "92e78f4f-5c62-43d3-b858-53d133762b03",
   "metadata": {},
   "outputs": [
    {
     "name": "stdout",
     "output_type": "stream",
     "text": [
      "<class 'pandas.core.series.Series'>\n",
      "RangeIndex: 211 entries, 0 to 210\n",
      "Series name: % change from 2000\n",
      "Non-Null Count  Dtype  \n",
      "--------------  -----  \n",
      "210 non-null    float64\n",
      "dtypes: float64(1)\n",
      "memory usage: 1.8 KB\n"
     ]
    }
   ],
   "source": [
    "df['% change from 2000'].info()"
   ]
  },
  {
   "cell_type": "code",
   "execution_count": 24,
   "id": "40c6a2a1-a201-4d18-8419-8a81bf7ed65c",
   "metadata": {},
   "outputs": [
    {
     "name": "stdout",
     "output_type": "stream",
     "text": [
      "<class 'pandas.core.frame.DataFrame'>\n",
      "RangeIndex: 211 entries, 0 to 210\n",
      "Data columns (total 5 columns):\n",
      " #   Column                 Non-Null Count  Dtype  \n",
      "---  ------                 --------------  -----  \n",
      " 0   Location               211 non-null    object \n",
      " 1   % of global total      211 non-null    float64\n",
      " 2   Fossil emissions 2023  211 non-null    float64\n",
      " 3   Fossil emissions 2000  210 non-null    float64\n",
      " 4   % change from 2000     210 non-null    float64\n",
      "dtypes: float64(4), object(1)\n",
      "memory usage: 8.4+ KB\n"
     ]
    }
   ],
   "source": [
    "df.info()"
   ]
  },
  {
   "cell_type": "markdown",
   "id": "bd4721a1-2e35-4c2b-bf40-c14ccc010e86",
   "metadata": {},
   "source": [
    "# Converting pandas to CSv"
   ]
  },
  {
   "cell_type": "code",
   "execution_count": 25,
   "id": "daef9dcf-5768-4e3a-a0fb-f3ea8a3cfb00",
   "metadata": {},
   "outputs": [],
   "source": [
    "df.to_csv('New CO2 Emissions.csv', index=False)"
   ]
  }
 ],
 "metadata": {
  "kernelspec": {
   "display_name": "Python 3 (ipykernel)",
   "language": "python",
   "name": "python3"
  },
  "language_info": {
   "codemirror_mode": {
    "name": "ipython",
    "version": 3
   },
   "file_extension": ".py",
   "mimetype": "text/x-python",
   "name": "python",
   "nbconvert_exporter": "python",
   "pygments_lexer": "ipython3",
   "version": "3.10.12"
  }
 },
 "nbformat": 4,
 "nbformat_minor": 5
}
